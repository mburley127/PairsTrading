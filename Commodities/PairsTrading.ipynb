{
 "cells": [
  {
   "cell_type": "code",
   "execution_count": 15,
   "metadata": {},
   "outputs": [],
   "source": [
    "### Library Imports\n",
    "import yfinance as yf\n",
    "import pandas as pd\n",
    "import matplotlib.pyplot as plt\n",
    "import seaborn as sns\n",
    "import statsmodels.api as sm\n",
    "import numpy as np\n",
    "import warnings\n",
    "warnings.filterwarnings(\"ignore\")\n",
    "\n",
    "### Resources\n",
    "# https://www.cmcmarkets.com/en/trading-guides/pairs-trading -> Overview of Pairs Trading\n",
    "# https://hudsonthames.org/an-introduction-to-cointegration/ -> Cointegration for Pairs Trading\n"
   ]
  },
  {
   "cell_type": "code",
   "execution_count": 16,
   "metadata": {},
   "outputs": [
    {
     "name": "stderr",
     "output_type": "stream",
     "text": [
      "[*********************100%%**********************]  1 of 1 completed\n",
      "[*********************100%%**********************]  1 of 1 completed\n"
     ]
    },
    {
     "data": {
      "text/html": [
       "<div>\n",
       "<style scoped>\n",
       "    .dataframe tbody tr th:only-of-type {\n",
       "        vertical-align: middle;\n",
       "    }\n",
       "\n",
       "    .dataframe tbody tr th {\n",
       "        vertical-align: top;\n",
       "    }\n",
       "\n",
       "    .dataframe thead th {\n",
       "        text-align: right;\n",
       "    }\n",
       "</style>\n",
       "<table border=\"1\" class=\"dataframe\">\n",
       "  <thead>\n",
       "    <tr style=\"text-align: right;\">\n",
       "      <th></th>\n",
       "      <th>Date</th>\n",
       "      <th>SI=F</th>\n",
       "      <th>HG=F</th>\n",
       "    </tr>\n",
       "  </thead>\n",
       "  <tbody>\n",
       "    <tr>\n",
       "      <th>252</th>\n",
       "      <td>2024-07-03</td>\n",
       "      <td>30.548000</td>\n",
       "      <td>4.5410</td>\n",
       "    </tr>\n",
       "    <tr>\n",
       "      <th>253</th>\n",
       "      <td>2024-07-05</td>\n",
       "      <td>31.388000</td>\n",
       "      <td>4.6585</td>\n",
       "    </tr>\n",
       "    <tr>\n",
       "      <th>254</th>\n",
       "      <td>2024-07-08</td>\n",
       "      <td>30.618000</td>\n",
       "      <td>4.6220</td>\n",
       "    </tr>\n",
       "    <tr>\n",
       "      <th>255</th>\n",
       "      <td>2024-07-09</td>\n",
       "      <td>30.771999</td>\n",
       "      <td>4.5780</td>\n",
       "    </tr>\n",
       "    <tr>\n",
       "      <th>256</th>\n",
       "      <td>2024-07-10</td>\n",
       "      <td>31.100000</td>\n",
       "      <td>4.5880</td>\n",
       "    </tr>\n",
       "  </tbody>\n",
       "</table>\n",
       "</div>"
      ],
      "text/plain": [
       "          Date       SI=F    HG=F\n",
       "252 2024-07-03  30.548000  4.5410\n",
       "253 2024-07-05  31.388000  4.6585\n",
       "254 2024-07-08  30.618000  4.6220\n",
       "255 2024-07-09  30.771999  4.5780\n",
       "256 2024-07-10  31.100000  4.5880"
      ]
     },
     "execution_count": 16,
     "metadata": {},
     "output_type": "execute_result"
    }
   ],
   "source": [
    "### Function to Commodities Data\n",
    "# List of all commodities available in yfinance\n",
    "commodities_list = [\n",
    "    'ES=F', 'YM=F', 'NQ=F', 'RTY=F', 'ZB=F', 'ZN=F', 'ZF=F', 'ZT=F',\n",
    "    'GC=F', 'MGC=F', 'SI=F', 'SIL=F', 'PL=F', 'HG=F', 'PA=F', 'CL=F',\n",
    "    'HO=F', 'NG=F', 'RB=F', 'BZ=F', 'B0=F', 'ZC=F', 'ZO=F', 'KE=F',\n",
    "    'ZR=F', 'ZM=F', 'ZL=F', 'ZS=F', 'GF=F', 'HE=F', 'LE=F', 'CC=F',\n",
    "    'KC=F', 'CT=F', 'LBS=F', 'OJ=F', 'SB=F'\n",
    "]\n",
    "metals = ['GC=F', 'MGC=F', 'SI=F', 'SIL=F', 'PL=F', 'HG=F', 'PA=F']\n",
    "metals_test = ['SI=F', 'HG=F']\n",
    "energy = ['CL=F', 'HO=F', 'NG=F', 'RB=F', 'BZ=F', 'B0=F']\n",
    "agriculture = ['ZC=F', 'ZO=F', 'KE=F', 'ZR=F', 'ZM=F', 'ZL=F', 'ZS=F', 'GF=F', 'HE=F', 'LE=F', 'CC=F', 'KC=F', 'CT=F', 'LBS=F', 'OJ=F', 'SB=F']\n",
    "\n",
    "def import_commod_data(tickers, start_date):\n",
    "    data = pd.DataFrame()\n",
    "    if len(tickers) == 1:\n",
    "        data[tickers[0]] = yf.download(tickers[0], start_date)['Adj Close']\n",
    "    else:\n",
    "        for t in tickers:\n",
    "            data[t] = yf.download(t, start_date)['Adj Close']\n",
    "\n",
    "    # Drop rows with NaN or Inf values\n",
    "    data = data.replace([np.inf, -np.inf], np.nan).dropna()\n",
    "    \n",
    "    return data\n",
    "\n",
    "start_date = '2023-07-01'\n",
    "end_date = '2024-07-01'\n",
    "commod_data = import_commod_data(metals_test, start_date)\n",
    "commod_data = commod_data.reset_index() # Turn Multi-Index into Column in Pandas \n",
    "commod_data.tail()\n"
   ]
  },
  {
   "cell_type": "code",
   "execution_count": 17,
   "metadata": {},
   "outputs": [
    {
     "name": "stdout",
     "output_type": "stream",
     "text": [
      "Most recent computed spread is:  26.512\n",
      "Most recent computed z-score is:  2.3294\n"
     ]
    }
   ],
   "source": [
    "### Function to Compute Spread and Z-Score\n",
    "\n",
    "def spread_and_zscore(series1, series2):\n",
    "    spread = series1 - series2\n",
    "    z_score = (spread - spread.mean()) / spread.std()\n",
    "    return spread, z_score\n",
    "\n",
    "### Function Call to Compute Spread and Z-Score\n",
    "# Define Metals\n",
    "metal1 = commod_data[metals_test[0]]\n",
    "metal2 = commod_data[metals_test[1]]\n",
    "# Function Call\n",
    "spread, z_score = spread_and_zscore(metal1, metal2)\n",
    "print('Most recent computed spread is: ', round(spread.iloc[-1], 4))\n",
    "print('Most recent computed z-score is: ', round(z_score.iloc[-1], 4))\n"
   ]
  },
  {
   "cell_type": "code",
   "execution_count": 18,
   "metadata": {},
   "outputs": [
    {
     "name": "stdout",
     "output_type": "stream",
     "text": [
      "The computed p-value is: 0.0251 and thus the null hypothesis of no cointegration is rejected, \n",
      "so the assumption of mean reversion holds and these pairs should be considered\n"
     ]
    }
   ],
   "source": [
    "### Function to check for cointegration\n",
    "# The cointegration test checks whether there is a long-term equilibrium relationship between the two time series\n",
    "def check_cointegration(series1, series2):\n",
    "    result = sm.tsa.stattools.coint(series1, series2)\n",
    "    # The second element of the result is the p-value of the cointegration test\n",
    "    p_val = result[1] \n",
    "    return p_val\n",
    "\n",
    "### Function Call to Compute P Value\n",
    "# If the p-value is less than a significance level (commonly 0.05), the null hypothesis of no cointegration is rejected, \n",
    "# indicating that the series are cointegrated\n",
    "p_value = check_cointegration(metal1, metal2)\n",
    "\n",
    "if p_value > 0.05:\n",
    "    print(\n",
    "        'The computed p-value is:', round(p_value, 4), \n",
    "        'and thus the null hypothesis of no cointegration cannot be rejected, \\n'\n",
    "        'so the assumption of mean reversion may not hold and these pairs should NOT be considered'\n",
    "    )\n",
    "elif p_value < 0.05:\n",
    "    print(\n",
    "        'The computed p-value is:', round(p_value, 4), \n",
    "        'and thus the null hypothesis of no cointegration is rejected, \\n'\n",
    "        'so the assumption of mean reversion holds and these pairs should be considered'\n",
    "    )\n"
   ]
  },
  {
   "cell_type": "code",
   "execution_count": 19,
   "metadata": {},
   "outputs": [],
   "source": [
    "### Calculate Trend Signals Based on Z-Score\n",
    "''' \n",
    "The z-score is used to generate trading signals based on predefined thresholds:\n",
    "- When the z-score is below -1, it indicates that the spread is significantly below its mean (i.e., one asset \n",
    "  is undervalued compared to the other). This triggers a long position in the undervalued asset and a short \n",
    "  position in the overvalued asset.\n",
    "- When the z-score is above 1, it indicates that the spread is significantly above its mean (i.e., one asset \n",
    "  is overvalued compared to the other). This triggers a short position in the overvalued asset and a long \n",
    "  position in the undervalued asset.\n",
    "- Positions are exited when the z-score reverts to a value between -0.5 and 0.5, indicating that the spread \n",
    "  has reverted to its mean.\n",
    "'''\n",
    "# Function to generate trading signals based on z-score\n",
    "def generate_trading_signals(z_score):\n",
    "    longs = z_score < -1\n",
    "    shorts = z_score > 1\n",
    "    exits = abs(z_score) < 0.5\n",
    "    return longs, shorts, exits\n",
    "\n",
    "### Function to calculate positions\n",
    "def calculate_positions(commod_data):\n",
    "    positions = pd.DataFrame(index = commod_data.index)\n"
   ]
  },
  {
   "cell_type": "code",
   "execution_count": 20,
   "metadata": {},
   "outputs": [],
   "source": [
    "def calculate_position(commod_data, metal1, metal2):\n",
    "    # Call Positions Function\n",
    "    positions = calculate_positions(commod_data)\n",
    "    # Compute p Value\n",
    "    p_value = check_cointegration(metal1, metal2)\n",
    "    # Check p value and compute position\n",
    "    if p_value < 0.05:\n",
    "        print(\n",
    "        'The computed p-value is:', round(p_value, 4), \n",
    "        'and thus the null hypothesis of no cointegration is rejected, \\n'\n",
    "        'so the assumption of mean reversion holds and these pairs should be considered'\n",
    "        )\n",
    "        # Compute spread, z-score, and generate the trading signals\n",
    "        spread, z_score = spread_and_zscore(metal1, metal2)\n",
    "        print('Most recent computed spread is: ', round(spread.iloc[-1], 4))\n",
    "        print('Most recent computed z-score is: ', round(z_score.iloc[-1], 4))\n",
    "\n",
    "        # Call function to generate trading signals\n",
    "        longs, shorts, exits = generate_trading_signals(z_score)\n",
    "        \n",
    "        positions[f'{metal1}_{metal2}_long'] = 0\n",
    "        positions[f'{metal1}_{metal2}_short'] = 0\n",
    "        positions.loc[longs, f'{metal1}_{metal2}_long'] = 1000\n",
    "        positions.loc[shorts, f'{metal1}_{metal2}_short'] = -1000\n",
    "        positions.loc[exits, [f'{metal1}_{metal2}_long', f'{metal1}_{metal2}_short']] = 0\n",
    "\n",
    "        # Carry forward positions\n",
    "        positions[f'{metal1}_{metal2}_long'] = positions[f'{metal1}_{metal2}_long'].fillna(method='ffill')\n",
    "        positions[f'{metal1}_{metal2}_short'] = positions[f'{metal1}_{metal2}_short'].fillna(method='ffill')\n",
    "    else:\n",
    "        print(f\"{metal1} and {metal2} are NOT cointegrated with p-value: {p_value}\")\n",
    "    \n",
    "    return positions"
   ]
  }
 ],
 "metadata": {
  "kernelspec": {
   "display_name": "base",
   "language": "python",
   "name": "python3"
  },
  "language_info": {
   "codemirror_mode": {
    "name": "ipython",
    "version": 3
   },
   "file_extension": ".py",
   "mimetype": "text/x-python",
   "name": "python",
   "nbconvert_exporter": "python",
   "pygments_lexer": "ipython3",
   "version": "3.8.18"
  }
 },
 "nbformat": 4,
 "nbformat_minor": 2
}
