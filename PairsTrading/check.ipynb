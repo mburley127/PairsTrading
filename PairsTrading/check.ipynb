{
 "cells": [
  {
   "cell_type": "code",
   "execution_count": 11,
   "metadata": {},
   "outputs": [
    {
     "name": "stderr",
     "output_type": "stream",
     "text": [
      "[*********************100%%**********************]  7 of 7 completed\n",
      "[*********************100%%**********************]  2 of 2 completed"
     ]
    },
    {
     "name": "stdout",
     "output_type": "stream",
     "text": [
      "[('GC=F', 'MGC=F'), ('SI=F', 'SIL=F'), ('PL=F', 'HG=F'), ('PL=F', 'PA=F')]\n"
     ]
    },
    {
     "name": "stderr",
     "output_type": "stream",
     "text": [
      "\n"
     ]
    },
    {
     "name": "stdout",
     "output_type": "stream",
     "text": [
      "Backtesting Results:\n",
      "{'cointegration': 0.1591762614200007,\n",
      " 'correlation': 0.7895661068911248,\n",
      " 'maximum_drawdown': 11.903501510620117,\n",
      " 'profit_factor': 1.1676853307312915,\n",
      " 'riskreward_ratio': 0.7058396402181688,\n",
      " 'sharpe_ratio': 0.047405353290028665,\n",
      " 'total_profit': 11.878997087478638,\n",
      " 'total_trades': 430,\n",
      " 'win_rate': 0.6232558139534884}\n",
      "Latest Signal:\n"
     ]
    },
    {
     "name": "stderr",
     "output_type": "stream",
     "text": [
      "[*********************100%%**********************]  2 of 2 completed\n"
     ]
    },
    {
     "name": "stdout",
     "output_type": "stream",
     "text": [
      "{'HG=F Adj Close': 4.236499786376953,\n",
      " 'HG=F Buy': True,\n",
      " 'HG=F Cover': False,\n",
      " 'HG=F Sell': False,\n",
      " 'HG=F Short': False,\n",
      " 'SIL=F Adj Close': 29.405000686645508,\n",
      " 'SIL=F Buy': False,\n",
      " 'SIL=F Cover': False,\n",
      " 'SIL=F Sell': True,\n",
      " 'SIL=F Short': False,\n",
      " 'date': '2024-07-19',\n",
      " 'zscore': 18.254722010783524}\n"
     ]
    }
   ],
   "source": [
    "### Auto Generated Function to Check Pairs Trading Strategy\n",
    "# https://pypi.org/project/stock-pairs-trading/ \n",
    "# This script initializes the StockPairsTrading object, finds pairs from a list of stocks, \n",
    "# performs a backtest on a specific pair, and gets the latest trading signal for the pair\n",
    "from pprint import pprint\n",
    "from stock_pairs_trading import StockPairsTrading\n",
    "\n",
    "# Initialize StockPairsTrading object\n",
    "spt = StockPairsTrading(\n",
    "    start = '2016-07-01',\n",
    "    end = '2024-07-01',\n",
    ")\n",
    "\n",
    "# Possible Commodities\n",
    "metals = ['GC=F', 'MGC=F', 'SI=F', 'SIL=F', 'PL=F', 'HG=F', 'PA=F']\n",
    "energy = ['CL=F', 'HO=F', 'NG=F', 'RB=F', 'BZ=F']\n",
    "agriculture = ['ZC=F', 'ZO=F', 'KE=F', 'ZR=F', 'ZM=F', 'ZL=F', 'ZS=F', 'GF=F', 'HE=F', 'LE=F', 'CC=F', 'KC=F', 'CT=F', 'OJ=F', 'SB=F']\n",
    "\n",
    "# Find pairs\n",
    "pairs = spt.find_pairs(metals)\n",
    "print(pairs)  # Output: [('ADBE', 'MSFT')]\n",
    "\n",
    "# Backtest\n",
    "backtest_result = spt.backtest(('SIL=F', 'HG=F'))\n",
    "print('Backtesting Results:')\n",
    "pprint(backtest_result)\n",
    "\n",
    "# Get the latest signal\n",
    "print('Latest Signal:')\n",
    "latest_signal = spt.latest_signal(('SIL=F', 'HG=F'))\n",
    "pprint(latest_signal)\n",
    "\n"
   ]
  }
 ],
 "metadata": {
  "kernelspec": {
   "display_name": "base",
   "language": "python",
   "name": "python3"
  },
  "language_info": {
   "codemirror_mode": {
    "name": "ipython",
    "version": 3
   },
   "file_extension": ".py",
   "mimetype": "text/x-python",
   "name": "python",
   "nbconvert_exporter": "python",
   "pygments_lexer": "ipython3",
   "version": "3.8.18"
  }
 },
 "nbformat": 4,
 "nbformat_minor": 2
}
