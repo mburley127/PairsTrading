{
 "cells": [
  {
   "cell_type": "code",
   "execution_count": 11,
   "metadata": {},
   "outputs": [],
   "source": [
    "### Import Functions and Libraries\n",
    "import yfinance as yf\n",
    "import pandas as pd\n",
    "import numpy as np\n",
    "import statsmodels.api as sm\n",
    "import matplotlib.pyplot as plt\n",
    "import warnings\n",
    "warnings.filterwarnings(\"ignore\")\n",
    "import itertools\n"
   ]
  },
  {
   "cell_type": "code",
   "execution_count": 12,
   "metadata": {},
   "outputs": [
    {
     "name": "stderr",
     "output_type": "stream",
     "text": [
      "[*********************100%%**********************]  1 of 1 completed\n",
      "[*********************100%%**********************]  1 of 1 completed\n",
      "[*********************100%%**********************]  1 of 1 completed\n",
      "[*********************100%%**********************]  1 of 1 completed\n",
      "[*********************100%%**********************]  1 of 1 completed\n",
      "[*********************100%%**********************]  1 of 1 completed\n",
      "[*********************100%%**********************]  1 of 1 completed\n",
      "[*********************100%%**********************]  1 of 1 completed\n",
      "[*********************100%%**********************]  1 of 1 completed\n",
      "[*********************100%%**********************]  1 of 1 completed\n",
      "[*********************100%%**********************]  1 of 1 completed\n",
      "[*********************100%%**********************]  1 of 1 completed\n",
      "[*********************100%%**********************]  1 of 1 completed\n",
      "[*********************100%%**********************]  1 of 1 completed\n",
      "[*********************100%%**********************]  1 of 1 completed\n"
     ]
    }
   ],
   "source": [
    "### Function to Get Commodities Data\n",
    "def import_commod_data(tickers, start_date, end_date):\n",
    "    data = pd.DataFrame()\n",
    "    for t in tickers:\n",
    "        data[t] = yf.download(t, start = start_date, end = end_date)['Adj Close']\n",
    "    data = data.replace([np.inf, -np.inf], np.nan).dropna() # Drop nan and inf values\n",
    "    return data\n",
    "# List of all commodities available in yfinance\n",
    "commodities_list = [\n",
    "    'ES=F', 'YM=F', 'NQ=F', 'RTY=F', 'ZB=F', 'ZN=F', 'ZF=F', 'ZT=F',\n",
    "    'GC=F', 'MGC=F', 'SI=F', 'SIL=F', 'PL=F', 'HG=F', 'PA=F', 'CL=F',\n",
    "    'HO=F', 'NG=F', 'RB=F', 'BZ=F', 'ZC=F', 'ZO=F', 'KE=F',\n",
    "    'ZR=F', 'ZM=F', 'ZL=F', 'ZS=F', 'GF=F', 'HE=F', 'LE=F', 'CC=F',\n",
    "    'KC=F', 'CT=F', 'OJ=F', 'SB=F'\n",
    "]\n",
    "metals = ['GC=F', 'MGC=F', 'SI=F', 'SIL=F', 'PL=F', 'HG=F', 'PA=F']\n",
    "energy = ['CL=F', 'HO=F', 'NG=F', 'RB=F', 'BZ=F']\n",
    "agriculture = ['ZC=F', 'ZO=F', 'KE=F', 'ZR=F', 'ZM=F', 'ZL=F', 'ZS=F', 'GF=F', 'HE=F', 'LE=F', 'CC=F', 'KC=F', 'CT=F', 'OJ=F', 'SB=F']\n",
    "\n",
    "### Function Call to Load Commodities Data for the Date Range\n",
    "start_date = '2021-07-01'\n",
    "end_date = '2024-07-01'\n",
    "# Download data\n",
    "data = import_commod_data(agriculture, start_date, end_date)\n",
    "#print(data.tail())\n"
   ]
  },
  {
   "cell_type": "code",
   "execution_count": 13,
   "metadata": {},
   "outputs": [
    {
     "name": "stdout",
     "output_type": "stream",
     "text": [
      "The total number of pairs is 105 and should be: 105\n"
     ]
    }
   ],
   "source": [
    "### Create list of combinations of all unique pairs\n",
    "def get_all_pairs(pairs):\n",
    "    # Generate all unique combinations of pairs\n",
    "    unique_pairings = list(itertools.combinations(pairs, 2))\n",
    "    # Convert each tuple into a list\n",
    "    unique_pairings = [list(pair) for pair in unique_pairings]\n",
    "    \n",
    "    return unique_pairings\n",
    "\n",
    "all_pairs = get_all_pairs(agriculture)\n",
    "n = len(agriculture)\n",
    "total = (n*(n-1))/2\n",
    "print('The total number of pairs is', len(all_pairs), 'and should be:', str(int(total)))\n"
   ]
  },
  {
   "cell_type": "code",
   "execution_count": 14,
   "metadata": {},
   "outputs": [
    {
     "name": "stdout",
     "output_type": "stream",
     "text": [
      "The total number of cointegrated pairs is 11, giving a total percentage of 10.48%\n",
      "[['ZC=F', 'KE=F'], ['ZO=F', 'ZR=F'], ['ZO=F', 'CT=F'], ['KE=F', 'ZL=F'], ['KE=F', 'ZS=F'], ['ZR=F', 'ZL=F'], ['ZR=F', 'GF=F'], ['ZR=F', 'LE=F'], ['ZR=F', 'CC=F'], ['ZR=F', 'KC=F'], ['ZR=F', 'CT=F']]\n"
     ]
    }
   ],
   "source": [
    "\n",
    "### Compute and Filter based on P-Values (< 0.05)\n",
    "# The cointegration test checks whether there is a long-term equilibrium relationship between the two time series\n",
    "def check_cointegration(series1, series2):\n",
    "    # Perform the cointegration test from .coint() function\n",
    "    result = sm.tsa.stattools.coint(series1, series2)  \n",
    "    # Extract the p-value from the cointegration test results\n",
    "    p_val = result[1]  \n",
    "    return p_val\n",
    "\n",
    "# Create empty array to store pairs that are cointegrated\n",
    "cointegrated_pairs = []\n",
    "# Loop through all pairs\n",
    "for pairing in all_pairs:\n",
    "    # Get each pair from each pairing -> if pairing = ['ES=F', 'YM=F'], pair1 = 'ES=F' and pair2 = 'YM=F'\n",
    "    pair1 = pairing[0]\n",
    "    pair2 = pairing[1]\n",
    "    # Check for cointegration\n",
    "    p_value = check_cointegration(data[pair1], data[pair2])\n",
    "    # Filter based on p-value\n",
    "    if p_value < 0.05:\n",
    "        cointegrated_pairs.append(pairing)\n",
    "\n",
    "#print(cointegrated_pairs)\n",
    "coint_percentage = len(cointegrated_pairs) / len(all_pairs) * 100\n",
    "print(f'The total number of cointegrated pairs is {len(cointegrated_pairs)}, giving a total percentage of {round(coint_percentage, 2)}%')\n",
    "print(cointegrated_pairs)\n",
    "\n"
   ]
  }
 ],
 "metadata": {
  "kernelspec": {
   "display_name": "base",
   "language": "python",
   "name": "python3"
  },
  "language_info": {
   "codemirror_mode": {
    "name": "ipython",
    "version": 3
   },
   "file_extension": ".py",
   "mimetype": "text/x-python",
   "name": "python",
   "nbconvert_exporter": "python",
   "pygments_lexer": "ipython3",
   "version": "3.8.18"
  }
 },
 "nbformat": 4,
 "nbformat_minor": 2
}
