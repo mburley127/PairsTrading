{
 "cells": [
  {
   "cell_type": "code",
   "execution_count": 11,
   "metadata": {},
   "outputs": [],
   "source": [
    "### Import Functions and Libraries\n",
    "from Functions import import_commod_data, spread_and_zscore, check_cointegration, generate_signals, backtest, calculate_performance_metrics, plots\n",
    "import itertools\n",
    "import pandas as pd\n"
   ]
  },
  {
   "cell_type": "code",
   "execution_count": 12,
   "metadata": {},
   "outputs": [
    {
     "name": "stderr",
     "output_type": "stream",
     "text": [
      "[*********************100%%**********************]  1 of 1 completed"
     ]
    },
    {
     "name": "stderr",
     "output_type": "stream",
     "text": [
      "\n",
      "[*********************100%%**********************]  1 of 1 completed\n",
      "[*********************100%%**********************]  1 of 1 completed\n",
      "[*********************100%%**********************]  1 of 1 completed\n",
      "[*********************100%%**********************]  1 of 1 completed\n",
      "[*********************100%%**********************]  1 of 1 completed\n",
      "[*********************100%%**********************]  1 of 1 completed\n",
      "[*********************100%%**********************]  1 of 1 completed\n",
      "[*********************100%%**********************]  1 of 1 completed\n",
      "[*********************100%%**********************]  1 of 1 completed\n",
      "[*********************100%%**********************]  1 of 1 completed\n",
      "[*********************100%%**********************]  1 of 1 completed\n",
      "[*********************100%%**********************]  1 of 1 completed\n",
      "[*********************100%%**********************]  1 of 1 completed\n",
      "[*********************100%%**********************]  1 of 1 completed\n",
      "[*********************100%%**********************]  1 of 1 completed\n",
      "[*********************100%%**********************]  1 of 1 completed\n",
      "[*********************100%%**********************]  1 of 1 completed\n",
      "[*********************100%%**********************]  1 of 1 completed\n",
      "[*********************100%%**********************]  1 of 1 completed\n",
      "[*********************100%%**********************]  1 of 1 completed\n",
      "[*********************100%%**********************]  1 of 1 completed\n",
      "[*********************100%%**********************]  1 of 1 completed\n",
      "[*********************100%%**********************]  1 of 1 completed\n",
      "[*********************100%%**********************]  1 of 1 completed\n",
      "[*********************100%%**********************]  1 of 1 completed\n",
      "[*********************100%%**********************]  1 of 1 completed\n",
      "[*********************100%%**********************]  1 of 1 completed\n",
      "[*********************100%%**********************]  1 of 1 completed\n",
      "[*********************100%%**********************]  1 of 1 completed\n",
      "[*********************100%%**********************]  1 of 1 completed\n",
      "[*********************100%%**********************]  1 of 1 completed\n",
      "[*********************100%%**********************]  1 of 1 completed\n",
      "[*********************100%%**********************]  1 of 1 completed\n",
      "[*********************100%%**********************]  1 of 1 completed\n"
     ]
    }
   ],
   "source": [
    "### Function to Commodities Data\n",
    "# List of all commodities available in yfinance\n",
    "commodities_list = [\n",
    "    'ES=F', 'YM=F', 'NQ=F', 'RTY=F', 'ZB=F', 'ZN=F', 'ZF=F', 'ZT=F',\n",
    "    'GC=F', 'MGC=F', 'SI=F', 'SIL=F', 'PL=F', 'HG=F', 'PA=F', 'CL=F',\n",
    "    'HO=F', 'NG=F', 'RB=F', 'BZ=F', 'ZC=F', 'ZO=F', 'KE=F',\n",
    "    'ZR=F', 'ZM=F', 'ZL=F', 'ZS=F', 'GF=F', 'HE=F', 'LE=F', 'CC=F',\n",
    "    'KC=F', 'CT=F', 'OJ=F', 'SB=F'\n",
    "]\n",
    "metals = ['GC=F', 'MGC=F', 'SI=F', 'SIL=F', 'PL=F', 'HG=F', 'PA=F']\n",
    "energy = ['CL=F', 'HO=F', 'NG=F', 'RB=F', 'BZ=F', 'B0=F']\n",
    "agriculture = ['ZC=F', 'ZO=F', 'KE=F', 'ZR=F', 'ZM=F', 'ZL=F', 'ZS=F', 'GF=F', 'HE=F', 'LE=F', 'CC=F', 'KC=F', 'CT=F', 'LBS=F', 'OJ=F', 'SB=F']\n",
    "\n",
    "### Function Call to Load Commodities Data for the Date Range\n",
    "start_date = '2023-07-01'\n",
    "end_date = '2024-07-01'\n",
    "# Download data\n",
    "data = import_commod_data(commodities_list, start_date, end_date)\n",
    "#print(data.tail())"
   ]
  },
  {
   "cell_type": "code",
   "execution_count": 13,
   "metadata": {},
   "outputs": [
    {
     "name": "stdout",
     "output_type": "stream",
     "text": [
      "The total number of pairs is 595 and should be [n*(n-1)]/2 = (35 * 34)/2 = 595\n"
     ]
    }
   ],
   "source": [
    "### Create list of combinations of all unique pairs\n",
    "def get_all_pairs(pairs):\n",
    "    # Generate all unique combinations of pairs\n",
    "    unique_pairings = list(itertools.combinations(pairs, 2))\n",
    "    # Convert each tuple into a list\n",
    "    unique_pairings = [list(pair) for pair in unique_pairings]\n",
    "    \n",
    "    return unique_pairings\n",
    "\n",
    "all_pairs = get_all_pairs(commodities_list)\n",
    "print('The total number of pairs is',len(all_pairs),'and should be [n*(n-1)]/2 = (35 * 34)/2 = 595')\n"
   ]
  },
  {
   "cell_type": "code",
   "execution_count": 14,
   "metadata": {},
   "outputs": [
    {
     "name": "stdout",
     "output_type": "stream",
     "text": [
      "The total number of cointegrated pairs is 43, giving a total percentage of 7.23%\n"
     ]
    }
   ],
   "source": [
    "### Compute and Filter based on P-Values (< 0.05)\n",
    "# Create empty array to store pairs that are cointegrated\n",
    "cointegrated_pairs = []\n",
    "# Loop through all pairs\n",
    "for pairing in all_pairs:\n",
    "    # Get each pair from each pairing -> if pairing = ['ES=F', 'YM=F'], pair1 = 'ES=F' and pair2 = 'YM=F'\n",
    "    pair1 = pairing[0]\n",
    "    pair2 = pairing[1]\n",
    "    # Check for cointegration\n",
    "    p_value = check_cointegration(data[pair1], data[pair2])\n",
    "    # Filter based on p-value\n",
    "    if p_value < 0.05:\n",
    "        cointegrated_pairs.append(pairing)\n",
    "\n",
    "#print(cointegrated_pairs)\n",
    "coint_percentage = len(cointegrated_pairs) / len(all_pairs) * 100\n",
    "print(f'The total number of cointegrated pairs is {len(cointegrated_pairs)}, giving a total percentage of {round(coint_percentage, 2)}%')\n"
   ]
  },
  {
   "cell_type": "code",
   "execution_count": 15,
   "metadata": {},
   "outputs": [
    {
     "name": "stdout",
     "output_type": "stream",
     "text": [
      "  Pair1  Pair2                                             Spread  \\\n",
      "0  ZB=F   ZN=F  Date\n",
      "2023-07-03    14.687500\n",
      "2023-07-05    13....   \n",
      "1  ZF=F   CL=F  Date\n",
      "2023-07-03    37.053749\n",
      "2023-07-05    34....   \n",
      "2  ZF=F   BZ=F  Date\n",
      "2023-07-03    32.193748\n",
      "2023-07-05    29....   \n",
      "3  ZT=F   CL=F  Date\n",
      "2023-07-03    31.776405\n",
      "2023-07-05    29....   \n",
      "4  GC=F  MGC=F  Date\n",
      "2023-07-03    -7.800049\n",
      "2023-07-05    -7....   \n",
      "\n",
      "                                             Z_Score   P-Value  \\\n",
      "0  Date\n",
      "2023-07-03    2.337368\n",
      "2023-07-05    2.02...  0.443091   \n",
      "1  Date\n",
      "2023-07-03    1.731950\n",
      "2023-07-05    1.35...  0.443091   \n",
      "2  Date\n",
      "2023-07-03    1.798923\n",
      "2023-07-05    1.38...  0.443091   \n",
      "3  Date\n",
      "2023-07-03    1.737048\n",
      "2023-07-05    1.36...  0.443091   \n",
      "4  Date\n",
      "2023-07-03   -1.511114\n",
      "2023-07-05   -1.42...  0.443091   \n",
      "\n",
      "                                             Returns  \\\n",
      "0  Date\n",
      "2023-07-03    0.000000\n",
      "2023-07-05    0.03...   \n",
      "1  Date\n",
      "2023-07-03    0.000000\n",
      "2023-07-05    0.43...   \n",
      "2  Date\n",
      "2023-07-03    0.000000\n",
      "2023-07-05    0.38...   \n",
      "3  Date\n",
      "2023-07-03    0.000000\n",
      "2023-07-05    0.41...   \n",
      "4  Date\n",
      "2023-07-03    0.000000\n",
      "2023-07-05    0.00...   \n",
      "\n",
      "                                  Cumulative Returns  Total Return  \\\n",
      "0  Date\n",
      "2023-07-03    0.000000\n",
      "2023-07-05    0.03...      0.634733   \n",
      "1  Date\n",
      "2023-07-03     0.000000\n",
      "2023-07-05     0....     13.654198   \n",
      "2  Date\n",
      "2023-07-03     0.000000\n",
      "2023-07-05     0....     13.522002   \n",
      "3  Date\n",
      "2023-07-03     0.000000\n",
      "2023-07-05     0....     21.250651   \n",
      "4  Date\n",
      "2023-07-03    0.000000\n",
      "2023-07-05    0.00...      0.005810   \n",
      "\n",
      "   Percentage Return  Annualized Return  Sharpe Ratio  \n",
      "0          63.473251          64.117266      1.616381  \n",
      "1        1365.419838        1397.234284      2.359495  \n",
      "2        1352.200186        1383.620071      2.289830  \n",
      "3        2125.065086        2180.979913      2.536054  \n",
      "4           0.580966           0.585627      6.836838  \n"
     ]
    }
   ],
   "source": [
    "### Run through entire process for all cointegrated pairs\n",
    "# Create an empty DataFrame to store hedge ratios\n",
    "results_df = pd.DataFrame(columns = ['Pair1', 'Pair2', 'Spread', 'Z_Score', 'P-Value', 'Returns', 'Cumulative Returns', 'Total Return', 'Percentage Return', 'Annualized Return', 'Sharpe Ratio'])\n",
    "\n",
    "for pair in cointegrated_pairs:\n",
    "    #print(pair)\n",
    "    # Get each pair from each pairing -> if pairing = ['ES=F', 'YM=F'], pair1 = 'ES=F' and pair2 = 'YM=F'\n",
    "    pair1 = pair[0]\n",
    "    pair2 = pair[1]\n",
    "    # Spread and Z-Score\n",
    "    spread, z_score = spread_and_zscore(data[pair1], data[pair2])\n",
    "    # Generate Signals\n",
    "    signals = generate_signals(spread, z_score, data[pair1], data[pair2])\n",
    "    # Backtest\n",
    "    positions, returns, cumulative_rets = backtest(signals, data, pair)\n",
    "    #print(cumulative_rets)\n",
    "    # Performance Metrics\n",
    "    total_rets, percentage_rets, ann_rets, sharpe_ratio = calculate_performance_metrics(cumulative_rets, returns)\n",
    "    percentage_rets = total_rets * 100\n",
    "    # Append results to DataFrame\n",
    "    result = pd.DataFrame({\n",
    "        'Pair1': [pair1], \n",
    "        'Pair2': [pair2], \n",
    "        'Spread': [spread], \n",
    "        'Z_Score': [z_score], \n",
    "        'P-Value': [p_value], \n",
    "        'Returns': [returns], \n",
    "        'Cumulative Returns': [cumulative_rets], \n",
    "        'Total Return': [total_rets], \n",
    "        'Percentage Return': [percentage_rets], \n",
    "        'Annualized Return': [ann_rets], \n",
    "        'Sharpe Ratio': [sharpe_ratio]\n",
    "    })\n",
    "    # Concatenate results to DataFrame\n",
    "    results_df_full = pd.concat([results_df, result], ignore_index=True)\n",
    "\n",
    "print(results_df_full.head())\n"
   ]
  },
  {
   "cell_type": "code",
   "execution_count": null,
   "metadata": {},
   "outputs": [],
   "source": []
  }
 ],
 "metadata": {
  "kernelspec": {
   "display_name": "base",
   "language": "python",
   "name": "python3"
  },
  "language_info": {
   "codemirror_mode": {
    "name": "ipython",
    "version": 3
   },
   "file_extension": ".py",
   "mimetype": "text/x-python",
   "name": "python",
   "nbconvert_exporter": "python",
   "pygments_lexer": "ipython3",
   "version": "3.8.18"
  }
 },
 "nbformat": 4,
 "nbformat_minor": 2
}
